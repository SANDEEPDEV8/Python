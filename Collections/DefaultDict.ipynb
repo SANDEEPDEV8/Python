{
 "cells": [
  {
   "cell_type": "markdown",
   "metadata": {},
   "source": [
    "## defaultdict\n",
    "subclass of dict\n",
    "* It automatically assigns a default value to missing keys using a specified default_factory\n",
    "* eliminates the need for manual key existence checks"
   ]
  },
  {
   "cell_type": "code",
   "execution_count": null,
   "metadata": {},
   "outputs": [],
   "source": [
    "from collections import defaultdict\n",
    "from icecream import ic\n",
    "ic.configureOutput(prefix='', outputFunction=print)\n",
    "print = ic"
   ]
  },
  {
   "cell_type": "markdown",
   "metadata": {},
   "source": [
    "#### 1. Creating defaultdict"
   ]
  },
  {
   "cell_type": "code",
   "execution_count": null,
   "metadata": {},
   "outputs": [],
   "source": [
    "d= defaultdict(int) # Create a defaultdict with int as default_factory\n",
    "print(d[\"missing_key\"])\n",
    "\n",
    "# creation of nested defaultdict\n",
    "nested = defaultdict(lambda: defaultdict(int))\n",
    "nested[\"a\"][\"b\"] += 1\n",
    "print(nested)\n",
    "# show all keys and values\n",
    "print(dict(nested))\n"
   ]
  },
  {
   "cell_type": "markdown",
   "metadata": {},
   "source": [
    "#### 2. Default factory types"
   ]
  },
  {
   "cell_type": "code",
   "execution_count": null,
   "metadata": {},
   "outputs": [],
   "source": [
    "d= defaultdict(int) # default is int 0\n",
    "d['a']+=1\n",
    "print(d)\n",
    "\n",
    "d= defaultdict(list) # default is empty list [] \n",
    "d['a'].append(1)\n",
    "d['a'].append(2)\n",
    "print(d)\n",
    "\n",
    "d= defaultdict(set) # default is empty set {}\n",
    "d['a'].add(1)\n",
    "d['a'].add(2)\n",
    "print(d)\n",
    "\n",
    "def default_value():\n",
    "    return 'default value'\n",
    "\n",
    "d= defaultdict(default_value) # default is 'default value'\n",
    "print(d['a'])\n",
    "\n",
    "d= defaultdict(lambda: 'default value') # default is 'default value'\n",
    "print(d['a'])\n"
   ]
  },
  {
   "cell_type": "markdown",
   "metadata": {},
   "source": [
    "#### 3. Methods and attributes"
   ]
  },
  {
   "cell_type": "code",
   "execution_count": null,
   "metadata": {},
   "outputs": [],
   "source": [
    "# Access keys, values and items\n",
    "d = defaultdict(int, {'a': 1, 'b': 2}) \n",
    "print(d.keys())\n",
    "print(d.values())\n",
    "print(d.items())\n",
    "\n",
    "#  Updating the dictionary\n",
    "d = defaultdict(int)\n",
    "d.update({'a': 2, 'b': 4})\n",
    "print(d)\n",
    "\n",
    "#  check if a key exists\n",
    "d = defaultdict(int)\n",
    "print('a' in d)\n",
    "d['a'] = 1\n",
    "print('a' in d)\n",
    "\n",
    "#  delete a key\n",
    "d = defaultdict(int, {'a': 1, 'b': 2})\n",
    "del d['a']\n",
    "print(d)\n",
    "\n",
    "# clear the dictionary\n",
    "d = defaultdict(int, {'a': 1, 'b': 2})\n",
    "d.clear()\n",
    "print(d)\n"
   ]
  },
  {
   "cell_type": "markdown",
   "metadata": {},
   "source": [
    "#### 4. Difference with regular dict"
   ]
  },
  {
   "cell_type": "code",
   "execution_count": null,
   "metadata": {},
   "outputs": [],
   "source": [
    "d = defaultdict(int)\n",
    "print(d['missing_key'])\n",
    "\n",
    "d ={}\n",
    "print(d['missing_key']) # KeyError: 'missing_key'\n",
    "\n",
    "\n"
   ]
  },
  {
   "cell_type": "markdown",
   "metadata": {},
   "source": [
    "#### 5. Usecases"
   ]
  },
  {
   "cell_type": "markdown",
   "metadata": {},
   "source": [
    "##### counting elements"
   ]
  },
  {
   "cell_type": "code",
   "execution_count": null,
   "metadata": {},
   "outputs": [],
   "source": [
    "data = ['apple', 'banana', 'apple', 'orange', 'banana']\n",
    "d = defaultdict(int)\n",
    "for item in data:\n",
    "    d[item] += 1\n",
    "print(d)"
   ]
  },
  {
   "cell_type": "markdown",
   "metadata": {},
   "source": [
    "##### Grouping Items by Key"
   ]
  },
  {
   "cell_type": "markdown",
   "metadata": {},
   "source": []
  },
  {
   "cell_type": "code",
   "execution_count": null,
   "metadata": {},
   "outputs": [],
   "source": [
    "data = [('a', 1), ('b', 2), ('a', 3), ('b', 4)]\n",
    "d = defaultdict(list)\n",
    "for key, value in data:\n",
    "    d[key].append(value)\n",
    "print(d)"
   ]
  },
  {
   "cell_type": "markdown",
   "metadata": {},
   "source": [
    "##### Creating an Adjacency List for Graphs"
   ]
  },
  {
   "cell_type": "code",
   "execution_count": null,
   "metadata": {},
   "outputs": [],
   "source": [
    "edges = [('A', 'B'), ('A', 'C'), ('B', 'D'), ('C', 'D')]\n",
    "graph = defaultdict(list)\n",
    "for start, end in edges:\n",
    "    graph[start].append(end)\n",
    "\n",
    "print(graph)"
   ]
  },
  {
   "cell_type": "markdown",
   "metadata": {},
   "source": [
    "##### Categorizing Data"
   ]
  },
  {
   "cell_type": "code",
   "execution_count": null,
   "metadata": {},
   "outputs": [],
   "source": [
    "data = [('fruit', 'apple'), ('fruit', 'banana'), ('veg', 'carrot')]\n",
    "categories = defaultdict(list)\n",
    "for category, item in data:\n",
    "    categories[category].append(item)\n",
    "print(categories) "
   ]
  },
  {
   "cell_type": "markdown",
   "metadata": {},
   "source": [
    "#### Word Frequency in Text"
   ]
  },
  {
   "cell_type": "code",
   "execution_count": null,
   "metadata": {},
   "outputs": [],
   "source": [
    "text = \"this is a test this is only a test\"\n",
    "word_counts = defaultdict(int)\n",
    "for word in text.split():\n",
    "    word_counts[word] += 1\n",
    "print(word_counts) "
   ]
  },
  {
   "cell_type": "markdown",
   "metadata": {},
   "source": [
    "##### Indexing Words by Their First Letter"
   ]
  },
  {
   "cell_type": "code",
   "execution_count": null,
   "metadata": {},
   "outputs": [],
   "source": [
    "words = ['apple', 'banana', 'cherry', 'avocado', 'blueberry']\n",
    "index = defaultdict(list)\n",
    "for word in words:\n",
    "    index[word[0]].append(word)\n",
    "print(index) "
   ]
  },
  {
   "cell_type": "markdown",
   "metadata": {},
   "source": [
    "<img src=\"defaultdict.png\" height=800 />"
   ]
  },
  {
   "cell_type": "code",
   "execution_count": null,
   "metadata": {},
   "outputs": [],
   "source": []
  }
 ],
 "metadata": {
  "kernelspec": {
   "display_name": "Python 3",
   "language": "python",
   "name": "python3"
  },
  "language_info": {
   "codemirror_mode": {
    "name": "ipython",
    "version": 3
   },
   "file_extension": ".py",
   "mimetype": "text/x-python",
   "name": "python",
   "nbconvert_exporter": "python",
   "pygments_lexer": "ipython3",
   "version": "3.12.2"
  }
 },
 "nbformat": 4,
 "nbformat_minor": 2
}

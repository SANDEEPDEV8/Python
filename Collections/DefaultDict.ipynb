{
 "cells": [
  {
   "cell_type": "markdown",
   "metadata": {},
   "source": [
    "## defaultdict\n",
    "subclass of dict\n",
    "* It automatically assigns a default value to missing keys using a specified default_factory\n",
    "* eliminates the need for manual key existence checks"
   ]
  },
  {
   "cell_type": "code",
   "execution_count": 1,
   "metadata": {},
   "outputs": [],
   "source": [
    "from collections import defaultdict\n",
    "from icecream import ic\n",
    "ic.configureOutput(prefix='', outputFunction=print)\n",
    "print = ic"
   ]
  },
  {
   "cell_type": "markdown",
   "metadata": {},
   "source": [
    "#### 1. Creating defaultdict"
   ]
  },
  {
   "cell_type": "code",
   "execution_count": 2,
   "metadata": {},
   "outputs": [
    {
     "name": "stdout",
     "output_type": "stream",
     "text": [
      "d[\"missing_key\"]: 0\n",
      "nested: defaultdict(<function <lambda> at 0x000002552C3A0540>,\n",
      "                    {'a': defaultdict(<class 'int'>, {'b': 1})})\n",
      "dict(nested): {'a': defaultdict(<class 'int'>, {'b': 1})}\n"
     ]
    },
    {
     "data": {
      "text/plain": [
       "{'a': defaultdict(int, {'b': 1})}"
      ]
     },
     "execution_count": 2,
     "metadata": {},
     "output_type": "execute_result"
    }
   ],
   "source": [
    "d= defaultdict(int) # Create a defaultdict with int as default_factory\n",
    "print(d[\"missing_key\"])\n",
    "\n",
    "# creation of nested defaultdict\n",
    "nested = defaultdict(lambda: defaultdict(int))\n",
    "nested[\"a\"][\"b\"] += 1\n",
    "print(nested)\n",
    "# show all keys and values\n",
    "print(dict(nested))\n"
   ]
  },
  {
   "cell_type": "markdown",
   "metadata": {},
   "source": [
    "#### 2. Default factory types"
   ]
  },
  {
   "cell_type": "code",
   "execution_count": 3,
   "metadata": {},
   "outputs": [
    {
     "name": "stdout",
     "output_type": "stream",
     "text": [
      "d: defaultdict(<class 'int'>, {'a': 1})\n",
      "d: defaultdict(<class 'list'>, {'a': [1, 2]})\n",
      "d: defaultdict(<class 'set'>, {'a': {1, 2}})\n",
      "d['a']: 'default value'\n",
      "d['a']: 'default value'\n"
     ]
    },
    {
     "data": {
      "text/plain": [
       "'default value'"
      ]
     },
     "execution_count": 3,
     "metadata": {},
     "output_type": "execute_result"
    }
   ],
   "source": [
    "d= defaultdict(int) # default is int 0\n",
    "d['a']+=1\n",
    "print(d)\n",
    "\n",
    "d= defaultdict(list) # default is empty list [] \n",
    "d['a'].append(1)\n",
    "d['a'].append(2)\n",
    "print(d)\n",
    "\n",
    "d= defaultdict(set) # default is empty set {}\n",
    "d['a'].add(1)\n",
    "d['a'].add(2)\n",
    "print(d)\n",
    "\n",
    "def default_value():\n",
    "    return 'default value'\n",
    "\n",
    "d= defaultdict(default_value) # default is 'default value'\n",
    "print(d['a'])\n",
    "\n",
    "d= defaultdict(lambda: 'default value') # default is 'default value'\n",
    "print(d['a'])\n"
   ]
  },
  {
   "cell_type": "markdown",
   "metadata": {},
   "source": [
    "#### 3. Methods and attributes"
   ]
  },
  {
   "cell_type": "code",
   "execution_count": 4,
   "metadata": {},
   "outputs": [
    {
     "name": "stdout",
     "output_type": "stream",
     "text": [
      "d.keys(): dict_keys(['a', 'b'])\n",
      "d.values(): dict_values([1, 2])\n",
      "d.items(): dict_items([('a', 1), ('b', 2)])\n",
      "d: defaultdict(<class 'int'>, {'a': 2, 'b': 4})\n",
      "'a' in d: False\n",
      "'a' in d: True\n",
      "d: defaultdict(<class 'int'>, {'b': 2})\n",
      "d: defaultdict(<class 'int'>, {})\n"
     ]
    },
    {
     "data": {
      "text/plain": [
       "defaultdict(int, {})"
      ]
     },
     "execution_count": 4,
     "metadata": {},
     "output_type": "execute_result"
    }
   ],
   "source": [
    "# Access keys, values and items\n",
    "d = defaultdict(int, {'a': 1, 'b': 2}) \n",
    "print(d.keys())\n",
    "print(d.values())\n",
    "print(d.items())\n",
    "\n",
    "#  Updating the dictionary\n",
    "d = defaultdict(int)\n",
    "d.update({'a': 2, 'b': 4})\n",
    "print(d)\n",
    "\n",
    "#  check if a key exists\n",
    "d = defaultdict(int)\n",
    "print('a' in d)\n",
    "d['a'] = 1\n",
    "print('a' in d)\n",
    "\n",
    "#  delete a key\n",
    "d = defaultdict(int, {'a': 1, 'b': 2})\n",
    "del d['a']\n",
    "print(d)\n",
    "\n",
    "# clear the dictionary\n",
    "d = defaultdict(int, {'a': 1, 'b': 2})\n",
    "d.clear()\n",
    "print(d)\n"
   ]
  },
  {
   "cell_type": "markdown",
   "metadata": {},
   "source": [
    "#### 4. Difference with regular dict"
   ]
  },
  {
   "cell_type": "code",
   "execution_count": 5,
   "metadata": {},
   "outputs": [
    {
     "name": "stdout",
     "output_type": "stream",
     "text": [
      "d['missing_key']: 0\n"
     ]
    },
    {
     "ename": "KeyError",
     "evalue": "'missing_key'",
     "output_type": "error",
     "traceback": [
      "\u001b[1;31m---------------------------------------------------------------------------\u001b[0m",
      "\u001b[1;31mKeyError\u001b[0m                                  Traceback (most recent call last)",
      "Cell \u001b[1;32mIn[5], line 5\u001b[0m\n\u001b[0;32m      2\u001b[0m \u001b[38;5;28mprint\u001b[39m(d[\u001b[38;5;124m'\u001b[39m\u001b[38;5;124mmissing_key\u001b[39m\u001b[38;5;124m'\u001b[39m])\n\u001b[0;32m      4\u001b[0m d \u001b[38;5;241m=\u001b[39m{}\n\u001b[1;32m----> 5\u001b[0m \u001b[38;5;28mprint\u001b[39m(\u001b[43md\u001b[49m\u001b[43m[\u001b[49m\u001b[38;5;124;43m'\u001b[39;49m\u001b[38;5;124;43mmissing_key\u001b[39;49m\u001b[38;5;124;43m'\u001b[39;49m\u001b[43m]\u001b[49m) \u001b[38;5;66;03m# KeyError: 'missing_key'\u001b[39;00m\n",
      "\u001b[1;31mKeyError\u001b[0m: 'missing_key'"
     ]
    }
   ],
   "source": [
    "d = defaultdict(int)\n",
    "print(d['missing_key'])\n",
    "\n",
    "d ={}\n",
    "print(d['missing_key']) # KeyError: 'missing_key'\n",
    "\n",
    "\n"
   ]
  },
  {
   "cell_type": "markdown",
   "metadata": {},
   "source": [
    "#### 5. Usecases"
   ]
  },
  {
   "cell_type": "markdown",
   "metadata": {},
   "source": [
    "##### counting elements"
   ]
  },
  {
   "cell_type": "code",
   "execution_count": 6,
   "metadata": {},
   "outputs": [
    {
     "name": "stdout",
     "output_type": "stream",
     "text": [
      "d: defaultdict(<class 'int'>, {'apple': 2, 'banana': 2, 'orange': 1})\n"
     ]
    },
    {
     "data": {
      "text/plain": [
       "defaultdict(int, {'apple': 2, 'banana': 2, 'orange': 1})"
      ]
     },
     "execution_count": 6,
     "metadata": {},
     "output_type": "execute_result"
    }
   ],
   "source": [
    "data = ['apple', 'banana', 'apple', 'orange', 'banana']\n",
    "d = defaultdict(int)\n",
    "for item in data:\n",
    "    d[item] += 1\n",
    "print(d)"
   ]
  },
  {
   "cell_type": "markdown",
   "metadata": {},
   "source": [
    "##### Grouping Items by Key"
   ]
  },
  {
   "cell_type": "markdown",
   "metadata": {},
   "source": []
  },
  {
   "cell_type": "code",
   "execution_count": 7,
   "metadata": {},
   "outputs": [
    {
     "name": "stdout",
     "output_type": "stream",
     "text": [
      "d: defaultdict(<class 'list'>, {'a': [1, 3], 'b': [2, 4]})\n"
     ]
    },
    {
     "data": {
      "text/plain": [
       "defaultdict(list, {'a': [1, 3], 'b': [2, 4]})"
      ]
     },
     "execution_count": 7,
     "metadata": {},
     "output_type": "execute_result"
    }
   ],
   "source": [
    "data = [('a', 1), ('b', 2), ('a', 3), ('b', 4)]\n",
    "d = defaultdict(list)\n",
    "for key, value in data:\n",
    "    d[key].append(value)\n",
    "print(d)"
   ]
  },
  {
   "cell_type": "markdown",
   "metadata": {},
   "source": [
    "##### Creating an Adjacency List for Graphs"
   ]
  },
  {
   "cell_type": "code",
   "execution_count": 8,
   "metadata": {},
   "outputs": [
    {
     "name": "stdout",
     "output_type": "stream",
     "text": [
      "graph: defaultdict(<class 'list'>, {'A': ['B', 'C'], 'B': ['D'], 'C': ['D']})\n"
     ]
    },
    {
     "data": {
      "text/plain": [
       "defaultdict(list, {'A': ['B', 'C'], 'B': ['D'], 'C': ['D']})"
      ]
     },
     "execution_count": 8,
     "metadata": {},
     "output_type": "execute_result"
    }
   ],
   "source": [
    "edges = [('A', 'B'), ('A', 'C'), ('B', 'D'), ('C', 'D')]\n",
    "graph = defaultdict(list)\n",
    "for start, end in edges:\n",
    "    graph[start].append(end)\n",
    "\n",
    "print(graph)"
   ]
  },
  {
   "cell_type": "markdown",
   "metadata": {},
   "source": [
    "##### Categorizing Data"
   ]
  },
  {
   "cell_type": "code",
   "execution_count": 9,
   "metadata": {},
   "outputs": [
    {
     "name": "stdout",
     "output_type": "stream",
     "text": [
      "categories: defaultdict(<class 'list'>, {'fruit': ['apple', 'banana'], 'veg': ['carrot']})\n"
     ]
    },
    {
     "data": {
      "text/plain": [
       "defaultdict(list, {'fruit': ['apple', 'banana'], 'veg': ['carrot']})"
      ]
     },
     "execution_count": 9,
     "metadata": {},
     "output_type": "execute_result"
    }
   ],
   "source": [
    "data = [('fruit', 'apple'), ('fruit', 'banana'), ('veg', 'carrot')]\n",
    "categories = defaultdict(list)\n",
    "for category, item in data:\n",
    "    categories[category].append(item)\n",
    "print(categories) "
   ]
  },
  {
   "cell_type": "markdown",
   "metadata": {},
   "source": [
    "#### Word Frequency in Text"
   ]
  },
  {
   "cell_type": "code",
   "execution_count": 10,
   "metadata": {},
   "outputs": [
    {
     "name": "stdout",
     "output_type": "stream",
     "text": [
      "word_counts: defaultdict(<class 'int'>, {'this': 2, 'is': 2, 'a': 2, 'test': 2, 'only': 1})\n"
     ]
    },
    {
     "data": {
      "text/plain": [
       "defaultdict(int, {'this': 2, 'is': 2, 'a': 2, 'test': 2, 'only': 1})"
      ]
     },
     "execution_count": 10,
     "metadata": {},
     "output_type": "execute_result"
    }
   ],
   "source": [
    "text = \"this is a test this is only a test\"\n",
    "word_counts = defaultdict(int)\n",
    "for word in text.split():\n",
    "    word_counts[word] += 1\n",
    "print(word_counts) "
   ]
  },
  {
   "cell_type": "markdown",
   "metadata": {},
   "source": [
    "##### Indexing Words by Their First Letter"
   ]
  },
  {
   "cell_type": "code",
   "execution_count": 11,
   "metadata": {},
   "outputs": [
    {
     "name": "stdout",
     "output_type": "stream",
     "text": [
      "index: defaultdict(<class 'list'>,\n",
      "                   {'a': ['apple', 'avocado'],\n",
      "                    'b': ['banana', 'blueberry'],\n",
      "                    'c': ['cherry']})\n"
     ]
    },
    {
     "data": {
      "text/plain": [
       "defaultdict(list,\n",
       "            {'a': ['apple', 'avocado'],\n",
       "             'b': ['banana', 'blueberry'],\n",
       "             'c': ['cherry']})"
      ]
     },
     "execution_count": 11,
     "metadata": {},
     "output_type": "execute_result"
    }
   ],
   "source": [
    "words = ['apple', 'banana', 'cherry', 'avocado', 'blueberry']\n",
    "index = defaultdict(list)\n",
    "for word in words:\n",
    "    index[word[0]].append(word)\n",
    "print(index) "
   ]
  },
  {
   "cell_type": "code",
   "execution_count": null,
   "metadata": {},
   "outputs": [],
   "source": []
  }
 ],
 "metadata": {
  "kernelspec": {
   "display_name": "Python 3",
   "language": "python",
   "name": "python3"
  },
  "language_info": {
   "codemirror_mode": {
    "name": "ipython",
    "version": 3
   },
   "file_extension": ".py",
   "mimetype": "text/x-python",
   "name": "python",
   "nbconvert_exporter": "python",
   "pygments_lexer": "ipython3",
   "version": "3.12.2"
  }
 },
 "nbformat": 4,
 "nbformat_minor": 2
}

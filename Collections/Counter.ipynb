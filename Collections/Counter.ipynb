{
 "cells": [
  {
   "cell_type": "markdown",
   "metadata": {},
   "source": [
    "## Counter\n",
    "\n",
    "* counts hashable objects\n",
    "* specialized dictionaly {element: frequency or count}"
   ]
  },
  {
   "cell_type": "code",
   "execution_count": 26,
   "metadata": {},
   "outputs": [],
   "source": [
    "from collections import Counter\n",
    "from icecream import ic\n",
    "ic.configureOutput(prefix='', outputFunction=print)\n",
    "print = ic"
   ]
  },
  {
   "cell_type": "markdown",
   "metadata": {},
   "source": [
    "#### 1. Creating a counter"
   ]
  },
  {
   "cell_type": "code",
   "execution_count": 27,
   "metadata": {},
   "outputs": [
    {
     "name": "stdout",
     "output_type": "stream",
     "text": [
      "counter: Counter({'banana': 3, 'apple': 2, 'orange': 1})\n",
      "counter: Counter({'a': 5, 'b': 2, 'r': 2, 'c': 1, 'd': 1})\n",
      "counter: Counter({1: 3, 2: 2, 3: 1})\n",
      "counter: Counter({'b': 5, 'a': 3, 'c': 2})\n",
      "counter: Counter({'b': 5, 'a': 3, 'c': 2})\n"
     ]
    },
    {
     "data": {
      "text/plain": [
       "Counter({'b': 5, 'a': 3, 'c': 2})"
      ]
     },
     "execution_count": 27,
     "metadata": {},
     "output_type": "execute_result"
    }
   ],
   "source": [
    "# list\n",
    "counter = Counter(['apple','banana','apple','orange','banana','banana'])\n",
    "print(counter)\n",
    "\n",
    "# string\n",
    "counter = Counter('abracadabra')\n",
    "print(counter)\n",
    "\n",
    "# tuple\n",
    "counter = Counter((1, 2, 3, 1, 2, 1))\n",
    "print(counter) \n",
    "\n",
    "# counter from dictionary\n",
    "counter = Counter({'a': 3, 'b': 5, 'c': 2})\n",
    "print(counter)\n",
    "\n",
    "# counter from keyword arguments\n",
    "counter = Counter(a=3, b=5, c=2)\n",
    "print(counter)"
   ]
  },
  {
   "cell_type": "markdown",
   "metadata": {},
   "source": [
    "#### 2. Accessing and updating counts"
   ]
  },
  {
   "cell_type": "code",
   "execution_count": 29,
   "metadata": {},
   "outputs": [
    {
     "name": "stdout",
     "output_type": "stream",
     "text": [
      "counter['a']: 5\n",
      "counter['z']: 0\n",
      "counter: Counter({'a': 5, 'b': 2, 'r': 2, 'c': 1, 'd': 1})\n",
      "counter: Counter({'a': 8, 'b': 3, 'r': 2, 'n': 2, 'c': 1, 'd': 1})\n",
      "counter: Counter({'a': 10, 'b': 3, 'z': 3, 'r': 2, 'n': 2, 'c': 1, 'd': 1})\n",
      "counter: Counter({'a': 10, 'z': 8, 'b': 3, 'r': 2, 'n': 2, 'c': 1, 'd': 1})\n",
      "counter: Counter({'a': 2, 'r': 2, 'b': 1, 'c': 1, 'd': 1, 'n': -2})\n"
     ]
    },
    {
     "data": {
      "text/plain": [
       "Counter({'a': 2, 'r': 2, 'b': 1, 'c': 1, 'd': 1, 'n': -2})"
      ]
     },
     "execution_count": 29,
     "metadata": {},
     "output_type": "execute_result"
    }
   ],
   "source": [
    "# access counts\n",
    "counter = Counter('abracadabra')\n",
    "print(counter['a'])\n",
    "print(counter['z'])\n",
    "# update counts\n",
    "counter = Counter('abracadabra')\n",
    "print(counter)\n",
    "\n",
    "# Update with an iterable\n",
    "counter.update('banana')\n",
    "print(counter)\n",
    "\n",
    "# Update with a dictionary\n",
    "counter.update({'a': 2, 'z': 3})\n",
    "print(counter) \n",
    "\n",
    "# Update with keyword arguments\n",
    "counter.update(z=5)\n",
    "print(counter)\n",
    "\n",
    "# subtract counts\n",
    "counter = Counter('abracadabra')\n",
    "counter.subtract('banana')\n",
    "print(counter)"
   ]
  },
  {
   "cell_type": "markdown",
   "metadata": {},
   "source": [
    "#### 3. Common counter methods"
   ]
  },
  {
   "cell_type": "code",
   "execution_count": 34,
   "metadata": {},
   "outputs": [
    {
     "name": "stdout",
     "output_type": "stream",
     "text": [
      "counter.most_common(2): [('a', 5), ('b', 2)]\n",
      "counter.most_common(): [('a', 5), ('b', 2), ('r', 2), ('c', 1), ('d', 1)]\n",
      "c1: Counter({'a': 5, 'b': 2, 'r': 2, 'c': 1, 'd': 1})\n",
      "c2: Counter({'a': 3, 'n': 2, 'b': 1})\n",
      "c1 + c2: Counter({'a': 8, 'b': 3, 'r': 2, 'n': 2, 'c': 1, 'd': 1})\n",
      "c1 - c2: Counter({'a': 2, 'r': 2, 'b': 1, 'c': 1, 'd': 1})\n",
      "c1 & c2: Counter({'a': 3, 'b': 1})\n",
      "c1 | c2: Counter({'a': 5, 'b': 2, 'r': 2, 'n': 2, 'c': 1, 'd': 1})\n",
      "list(counter.elements()): ['a', 'a', 'a', 'b']\n",
      "counter: Counter()\n",
      "counter.total(): 11\n"
     ]
    },
    {
     "data": {
      "text/plain": [
       "11"
      ]
     },
     "execution_count": 34,
     "metadata": {},
     "output_type": "execute_result"
    }
   ],
   "source": [
    "# most_common #Returns a list of the n most common elements and their counts. If n is omitted, it returns all elements sorted by count.\n",
    "\n",
    "counter = Counter('abracadabra')\n",
    "print(counter.most_common(2))  \n",
    "print(counter.most_common()) \n",
    "\n",
    "# arithmetic and set operations\n",
    "c1 = Counter('abracadabra')\n",
    "c2 = Counter('banana')\n",
    "print(c1)\n",
    "print(c2)\n",
    "print(c1 + c2)  # Addition\n",
    "print(c1 - c2) # Subtraction\n",
    "print(c1 & c2) # Intersection (minimum of counts)\n",
    "print(c1 | c2) # Union (maximum of counts)\n",
    "counter = Counter({'a': 3, 'b': 1, 'c': -2})\n",
    "print(list(counter.elements())) # elements\n",
    "counter.clear()\n",
    "print(counter) # clear\n",
    "counter = Counter('abracadabra')\n",
    "print(counter.total()) # total\n"
   ]
  },
  {
   "cell_type": "markdown",
   "metadata": {},
   "source": [
    "#### 4. Converting a counter"
   ]
  },
  {
   "cell_type": "code",
   "execution_count": 35,
   "metadata": {},
   "outputs": [
    {
     "name": "stdout",
     "output_type": "stream",
     "text": [
      "dict(counter): {'a': 5, 'b': 2, 'c': 1, 'd': 1, 'r': 2}\n",
      "list(counter.items()): [('a', 5), ('b', 2), ('r', 2), ('c', 1), ('d', 1)]\n"
     ]
    },
    {
     "data": {
      "text/plain": [
       "[('a', 5), ('b', 2), ('r', 2), ('c', 1), ('d', 1)]"
      ]
     },
     "execution_count": 35,
     "metadata": {},
     "output_type": "execute_result"
    }
   ],
   "source": [
    "counter = Counter('abracadabra')\n",
    "print(dict(counter)) # to dict\n",
    "print(list(counter.items())) # items"
   ]
  },
  {
   "cell_type": "markdown",
   "metadata": {},
   "source": [
    "#### 5. Compare"
   ]
  },
  {
   "cell_type": "code",
   "execution_count": 41,
   "metadata": {},
   "outputs": [
    {
     "name": "stdout",
     "output_type": "stream",
     "text": [
      "c1 == c2: True\n",
      "c3 <= c1: True\n"
     ]
    },
    {
     "data": {
      "text/plain": [
       "True"
      ]
     },
     "execution_count": 41,
     "metadata": {},
     "output_type": "execute_result"
    }
   ],
   "source": [
    "c1 = Counter('aabc')\n",
    "c2 = Counter({'a': 2, 'b': 1, 'c': 1})\n",
    "print(c1 == c2)  # Output: True\n",
    "\n",
    "c3 = Counter('ab')\n",
    "print(c3 <= c1) # Output: True (c3 is a subset of c1)"
   ]
  }
 ],
 "metadata": {
  "kernelspec": {
   "display_name": "Python 3",
   "language": "python",
   "name": "python3"
  },
  "language_info": {
   "codemirror_mode": {
    "name": "ipython",
    "version": 3
   },
   "file_extension": ".py",
   "mimetype": "text/x-python",
   "name": "python",
   "nbconvert_exporter": "python",
   "pygments_lexer": "ipython3",
   "version": "3.12.2"
  }
 },
 "nbformat": 4,
 "nbformat_minor": 2
}

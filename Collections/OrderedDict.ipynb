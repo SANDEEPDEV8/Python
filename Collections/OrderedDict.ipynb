{
 "cells": [
  {
   "cell_type": "markdown",
   "metadata": {},
   "source": [
    "## OrderedDict\n",
    "\n",
    "* subclass of dict \n",
    "* preserves the order in which keys are inserted\n",
    "* order now worked in normal dict in python 3.7\n",
    "* OrderedDict provides additional features\n"
   ]
  },
  {
   "cell_type": "code",
   "execution_count": 1,
   "metadata": {},
   "outputs": [],
   "source": [
    "from collections import OrderedDict\n",
    "from icecream import ic\n",
    "ic.configureOutput(prefix='', outputFunction=print)\n",
    "print = ic"
   ]
  },
  {
   "cell_type": "markdown",
   "metadata": {},
   "source": [
    "#### 1. Creating OrderedDict"
   ]
  },
  {
   "cell_type": "code",
   "execution_count": 2,
   "metadata": {},
   "outputs": [
    {
     "name": "stdout",
     "output_type": "stream",
     "text": [
      "od: OrderedDict({'a': 1, 'b': 2, 'c': 3})\n"
     ]
    },
    {
     "data": {
      "text/plain": [
       "OrderedDict([('a', 1), ('b', 2), ('c', 3)])"
      ]
     },
     "execution_count": 2,
     "metadata": {},
     "output_type": "execute_result"
    }
   ],
   "source": [
    "od = OrderedDict()\n",
    "od['a'] = 1\n",
    "od['b'] = 2\n",
    "od['c'] = 3\n",
    "\n",
    "print(od)"
   ]
  },
  {
   "cell_type": "markdown",
   "metadata": {},
   "source": [
    "#### 2. Features"
   ]
  },
  {
   "cell_type": "code",
   "execution_count": 3,
   "metadata": {},
   "outputs": [
    {
     "name": "stdout",
     "output_type": "stream",
     "text": [
      "od: OrderedDict({'first': 1, 'second': 2, 'third': 3})\n",
      "od: OrderedDict({'a': 1, 'b': 42, 'c': 3})\n"
     ]
    },
    {
     "data": {
      "text/plain": [
       "OrderedDict([('a', 1), ('b', 42), ('c', 3)])"
      ]
     },
     "execution_count": 3,
     "metadata": {},
     "output_type": "execute_result"
    }
   ],
   "source": [
    "# Maintains Insertion Order\n",
    "od = OrderedDict()\n",
    "od['first'] = 1\n",
    "od['second'] = 2\n",
    "od['third'] = 3\n",
    "print(od) \n",
    "\n",
    "# Re-inserting a Key\n",
    "od = OrderedDict({'a': 1, 'b': 2, 'c': 3})\n",
    "od['b'] = 42  # Re-inserting 'b'\n",
    "print(od) # Output: OrderedDict([('a', 1), ('c', 3), ('b', 42)])"
   ]
  },
  {
   "cell_type": "markdown",
   "metadata": {},
   "source": [
    "#### 3. Methods"
   ]
  },
  {
   "cell_type": "code",
   "execution_count": 4,
   "metadata": {},
   "outputs": [
    {
     "name": "stdout",
     "output_type": "stream",
     "text": [
      "od: OrderedDict({'a': 1, 'c': 3, 'b': 2})\n",
      "od: OrderedDict({'c': 3, 'a': 1, 'b': 2})\n",
      "item: ('c', 3)\n",
      "od: OrderedDict({'a': 1, 'b': 2})\n",
      "item: ('a', 1)\n",
      "od: OrderedDict({'b': 2})\n",
      "od1 == od2: False\n"
     ]
    },
    {
     "data": {
      "text/plain": [
       "False"
      ]
     },
     "execution_count": 4,
     "metadata": {},
     "output_type": "execute_result"
    }
   ],
   "source": [
    "od = OrderedDict({'a': 1, 'b': 2, 'c': 3})\n",
    "od.move_to_end('b') # Move 'b' to the end (default behavior)\n",
    "print(od)\n",
    "\n",
    "od.move_to_end('c', last=False) # Move 'c' to the beginning\n",
    "print(od)  # Output: OrderedDict([('c', 3), ('a', 1), ('b', 2)])\n",
    "\n",
    "od = OrderedDict({'a': 1, 'b': 2, 'c': 3})\n",
    "\n",
    "item = od.popitem() # Remove and return the last item\n",
    "print(item)  # Output: ('c', 3)\n",
    "print(od)    # Output: OrderedDict([('a', 1), ('b', 2)])\n",
    "\n",
    "item = od.popitem(last=False) # Remove and return the first item\n",
    "print(item)  # Output: ('a', 1)\n",
    "print(od)  \n",
    "\n",
    "# Equality\n",
    "\n",
    "od1 = OrderedDict({'a': 1, 'b': 2})\n",
    "od2 = OrderedDict({'b': 2, 'a': 1})\n",
    "\n",
    "print(od1 == od2) # Output: False (order matters)"
   ]
  },
  {
   "cell_type": "markdown",
   "metadata": {},
   "source": [
    "#### 4. Usecases"
   ]
  },
  {
   "cell_type": "markdown",
   "metadata": {},
   "source": [
    "##### LRU cache"
   ]
  },
  {
   "cell_type": "code",
   "execution_count": 7,
   "metadata": {},
   "outputs": [
    {
     "name": "stdout",
     "output_type": "stream",
     "text": [
      "cache.get('a'): 1\n",
      "cache.get('b'): -1\n"
     ]
    },
    {
     "data": {
      "text/plain": [
       "-1"
      ]
     },
     "execution_count": 7,
     "metadata": {},
     "output_type": "execute_result"
    }
   ],
   "source": [
    "class LRUCahe:\n",
    "    def __init__(self,capacity:int):\n",
    "        self.cache = OrderedDict()\n",
    "        self.capacity = capacity\n",
    "\n",
    "    def get(self, key:int)->int:\n",
    "        if key not in self.cache:\n",
    "            return -1\n",
    "        else:\n",
    "            self.cache.move_to_end(key)\n",
    "            return self.cache[key]\n",
    "        \n",
    "    def put(self, key:str, value:int)->None:\n",
    "        if key in self.cache:\n",
    "            self.cache.move_to_end(key)\n",
    "\n",
    "        self.cache[key]= value\n",
    "        if len(self.cache) > self.capacity:\n",
    "            self.cache.popitem(last=False)\n",
    "\n",
    "cache = LRUCahe(2)\n",
    "cache.put('a',1)\n",
    "cache.put('b',2)\n",
    "print(cache.get('a'))\n",
    "cache.put('c',3)\n",
    "print(cache.get('b'))\n"
   ]
  },
  {
   "cell_type": "markdown",
   "metadata": {},
   "source": [
    "##### JSON Seriealization\n",
    "Maintain key order when serializing a dictionary to JSON."
   ]
  },
  {
   "cell_type": "code",
   "execution_count": 8,
   "metadata": {},
   "outputs": [
    {
     "name": "stdout",
     "output_type": "stream",
     "text": [
      "json_str: '{\"name\": \"Alice\", \"age\": 30, \"city\": \"New York\"}'\n"
     ]
    },
    {
     "data": {
      "text/plain": [
       "'{\"name\": \"Alice\", \"age\": 30, \"city\": \"New York\"}'"
      ]
     },
     "execution_count": 8,
     "metadata": {},
     "output_type": "execute_result"
    }
   ],
   "source": [
    "import json\n",
    "od = OrderedDict({'name': 'Alice', 'age': 30, 'city': 'New York'})\n",
    "json_str = json.dumps(od)\n",
    "print(json_str)"
   ]
  },
  {
   "attachments": {
    "{F8D85FBF-61AC-48EB-9E67-6ABFFDE6A983}.png": {
     "image/png": "[encoded data removed]"
    }
   },
   "cell_type": "markdown",
   "metadata": {},
   "source": [
    "![{F8D85FBF-61AC-48EB-9E67-6ABFFDE6A983}.png](attachment:{F8D85FBF-61AC-48EB-9E67-6ABFFDE6A983}.png)"
   ]
  },
  {
   "cell_type": "markdown",
   "metadata": {},
   "source": []
  }
 ],
 "metadata": {
  "kernelspec": {
   "display_name": "Python 3",
   "language": "python",
   "name": "python3"
  },
  "language_info": {
   "codemirror_mode": {
    "name": "ipython",
    "version": 3
   },
   "file_extension": ".py",
   "mimetype": "text/x-python",
   "name": "python",
   "nbconvert_exporter": "python",
   "pygments_lexer": "ipython3",
   "version": "3.12.2"
  }
 },
 "nbformat": 4,
 "nbformat_minor": 2
}
